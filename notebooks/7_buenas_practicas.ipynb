{
 "cells": [
  {
   "cell_type": "markdown",
   "id": "ece9c5b8-ba1e-48ab-810c-d2474d1ea7eb",
   "metadata": {},
   "source": [
    "# ✅ Buenas prácticas en diseño de APIs"
   ]
  },
  {
   "cell_type": "markdown",
   "id": "b02a2261-b386-46ee-9143-2f646445be39",
   "metadata": {},
   "source": [
    "1. Usar URLs descriptivas y consistentes:\n",
    "\n",
    "   * 🚫 `/getAllUsers`\n",
    "   * ✅ `/usuarios`"
   ]
  },
  {
   "cell_type": "markdown",
   "id": "10f303c9-9b6d-468d-906f-a2900951c5d6",
   "metadata": {},
   "source": [
    "2. Utilizar verbos HTTP correctamente:\n",
    "\n",
    "   * 🚫 `POST /usuarios/1/delete`\n",
    "   * ✅ `DELETE /usuarios/1`"
   ]
  },
  {
   "cell_type": "markdown",
   "id": "2bd73747-324c-4ec4-81b4-c155bed32af2",
   "metadata": {},
   "source": [
    "3. Proporcionar documentación clara:\n",
    "\n",
    "   * Usar `Swagger` o `OpenAPI` para documentar la API"
   ]
  },
  {
   "cell_type": "markdown",
   "id": "4527e402-421e-4153-b3b1-d40bfdd045dc",
   "metadata": {},
   "source": [
    "4. Implementar paginación:"
   ]
  },
  {
   "cell_type": "raw",
   "id": "540bc734-b39a-4d3a-a7e4-9285390093fd",
   "metadata": {},
   "source": [
    "GET /usuarios?page=1&limit=10"
   ]
  }
 ],
 "metadata": {
  "kernelspec": {
   "display_name": "Python 3 (ipykernel)",
   "language": "python",
   "name": "python3"
  },
  "language_info": {
   "codemirror_mode": {
    "name": "ipython",
    "version": 3
   },
   "file_extension": ".py",
   "mimetype": "text/x-python",
   "name": "python",
   "nbconvert_exporter": "python",
   "pygments_lexer": "ipython3",
   "version": "3.12.3"
  }
 },
 "nbformat": 4,
 "nbformat_minor": 5
}
