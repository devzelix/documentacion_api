{
 "cells": [
  {
   "cell_type": "markdown",
   "id": "5b3b0bc8-8284-4362-8879-6f6919f405c6",
   "metadata": {},
   "source": [
    "# 📌 Ejemplo completo de una API REST\n",
    "\n",
    "Implementación de una API con `FastAPI` en Python:"
   ]
  },
  {
   "cell_type": "code",
   "execution_count": null,
   "id": "df20962c-7e55-4efa-b6b0-6566b7d86c5f",
   "metadata": {},
   "outputs": [],
   "source": [
    "from fastapi import FastAPI\n",
    "\n",
    "app = FastAPI()\n",
    "\n",
    "@app.get(\"/usuarios\")\n",
    "def obtener_usuarios():\n",
    "    return [{\"id\": 1, \"nombre\": \"Carlos\"}, {\"id\": 2, \"nombre\": \"María\"}]"
   ]
  },
  {
   "cell_type": "markdown",
   "id": "79d32b73-1bb3-41db-b290-ff3bd0373953",
   "metadata": {},
   "source": [
    "## 📌 Conclusión\n",
    "\n",
    "* Las APIs son fundamentales en el desarrollo de software moderno\n",
    "\n",
    "* Existen diferentes tipos de APIs y métodos de autenticación\n",
    "\n",
    "* Implementar buenas prácticas mejora la seguridad y usabilidad\n",
    "\n",
    "* Documentar correctamente una API facilita su integración"
   ]
  }
 ],
 "metadata": {
  "kernelspec": {
   "display_name": "Python 3 (ipykernel)",
   "language": "python",
   "name": "python3"
  },
  "language_info": {
   "codemirror_mode": {
    "name": "ipython",
    "version": 3
   },
   "file_extension": ".py",
   "mimetype": "text/x-python",
   "name": "python",
   "nbconvert_exporter": "python",
   "pygments_lexer": "ipython3",
   "version": "3.12.3"
  }
 },
 "nbformat": 4,
 "nbformat_minor": 5
}
