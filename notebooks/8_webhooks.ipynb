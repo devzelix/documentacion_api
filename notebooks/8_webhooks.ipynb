{
 "cells": [
  {
   "cell_type": "markdown",
   "id": "fcf339ec-443d-4e7f-bc15-c03bd6a81389",
   "metadata": {},
   "source": [
    "# 🌐 Webhooks\n",
    "\n",
    "Un `webhook` permite que una API envíe datos en tiempo real cuando ocurre un evento.\n",
    "\n",
    "Ejemplo: Un webhook que notifica cuando se crea un nuevo usuario."
   ]
  },
  {
   "cell_type": "raw",
   "id": "b530c2db-c279-4e37-bbaf-beac3ef45b4b",
   "metadata": {},
   "source": [
    "{\n",
    "  \"evento\": \"nuevo_usuario\",\n",
    "  \"datos\": {\n",
    "    \"id\": 100,\n",
    "    \"nombre\": \"María\"\n",
    "  }\n",
    "}"
   ]
  }
 ],
 "metadata": {
  "kernelspec": {
   "display_name": "Python 3 (ipykernel)",
   "language": "python",
   "name": "python3"
  },
  "language_info": {
   "codemirror_mode": {
    "name": "ipython",
    "version": 3
   },
   "file_extension": ".py",
   "mimetype": "text/x-python",
   "name": "python",
   "nbconvert_exporter": "python",
   "pygments_lexer": "ipython3",
   "version": "3.12.3"
  }
 },
 "nbformat": 4,
 "nbformat_minor": 5
}
