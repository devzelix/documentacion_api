{
 "cells": [
  {
   "cell_type": "markdown",
   "id": "2663a151-4f22-4439-a1d8-827d84eab19a",
   "metadata": {},
   "source": [
    "# 🚀 Introducción a las API"
   ]
  },
  {
   "cell_type": "markdown",
   "id": "d85dd1d2-420c-49e3-9b52-7c0ffb61dace",
   "metadata": {},
   "source": [
    "## 📨 ¿Qué es una API?\n",
    "\n",
    "Una API (Application Programming Interface) es un conjunto de reglas y protocolos que permite la comunicación entre diferentes sistemas de software. Las APIs permiten que aplicaciones intercambien datos y funcionalidades sin necesidad de compartir su código interno."
   ]
  },
  {
   "cell_type": "markdown",
   "id": "a96c5ecd-e1e9-4cd2-bec2-fe492a057226",
   "metadata": {},
   "source": [
    "## 📬 Ejemplo de uso de una API\n",
    "\n",
    "Supongamos que una aplicación móvil necesita obtener el clima actual de una ciudad. En lugar de calcular el clima por sí mismo, la aplicación consulta una API de meteorología como  `OpenWeatherMap` , que le devuelve la información solicitada:"
   ]
  },
  {
   "cell_type": "markdown",
   "id": "426b74cf-93bf-4009-b32f-2164681fe80f",
   "metadata": {},
   "source": [
    "GET https://api.openweathermap.org/data/2.5/weather?q=London&appid=TU_API_KEY"
   ]
  },
  {
   "cell_type": "markdown",
   "id": "6c310cb2-7cc5-4f9c-9785-40bc9ffdc1b4",
   "metadata": {},
   "source": [
    "La API responderá con un JSON como este:"
   ]
  },
  {
   "cell_type": "code",
   "execution_count": null,
   "id": "d067caec-2454-4033-97bb-82203ebc27dc",
   "metadata": {
    "vscode": {
     "languageId": "json"
    }
   },
   "outputs": [],
   "source": [
    "{\n",
    "  \"weather\": [\n",
    "    {\n",
    "      \"description\": \"clear sky\"\n",
    "    }\n",
    "  ],\n",
    "  \"main\": {\n",
    "    \"temp\": 290.15\n",
    "  },\n",
    "  \"name\": \"London\"\n",
    "}"
   ]
  },
  {
   "cell_type": "markdown",
   "id": "a7048988-5284-4a70-86ba-3e678228cff9",
   "metadata": {},
   "source": [
    "## ✨ Beneficios de las APIs\n",
    "\n",
    "* Facilitan la integración entre aplicaciones\n",
    "\n",
    "* Permiten reutilizar funcionalidades existentes\n",
    "\n",
    "* Mejoran la escalabilidad y modularidad del software\n",
    "\n",
    "* Fomentar la interoperabilidad entre tecnologías"
   ]
  }
 ],
 "metadata": {
  "kernelspec": {
   "display_name": ".venv",
   "language": "python",
   "name": "python3"
  },
  "language_info": {
   "codemirror_mode": {
    "name": "ipython",
    "version": 3
   },
   "file_extension": ".py",
   "mimetype": "text/x-python",
   "name": "python",
   "nbconvert_exporter": "python",
   "pygments_lexer": "ipython3",
   "version": "3.12.3"
  }
 },
 "nbformat": 4,
 "nbformat_minor": 5
}
