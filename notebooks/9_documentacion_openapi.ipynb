{
 "cells": [
  {
   "cell_type": "markdown",
   "id": "0e52b887-3dd8-4683-86d1-c04e15e73cc4",
   "metadata": {},
   "source": [
    "# 📑 Documentación con OpenAPI\n",
    "\n",
    "La documentación de una API con `Swagger/OpenAPI` facilita su uso.\n",
    "\n",
    "Ejemplo de especificación OpenAPI en JSON:"
   ]
  },
  {
   "cell_type": "raw",
   "id": "18739800-0814-45f1-9fa6-d2a57d4da3dd",
   "metadata": {},
   "source": [
    "{\n",
    "  \"openapi\": \"3.0.0\",\n",
    "  \"info\": {\n",
    "    \"title\": \"API de Usuarios\",\n",
    "    \"version\": \"1.0.0\"\n",
    "  },\n",
    "  \"paths\": {\n",
    "    \"/usuarios\": {\n",
    "      \"get\": {\n",
    "        \"summary\": \"Obtener usuarios\",\n",
    "        \"responses\": {\n",
    "          \"200\": {\n",
    "            \"description\": \"Lista de usuarios\"\n",
    "          }\n",
    "        }\n",
    "      }\n",
    "    }\n",
    "  }\n",
    "}\n"
   ]
  }
 ],
 "metadata": {
  "kernelspec": {
   "display_name": "Python 3 (ipykernel)",
   "language": "python",
   "name": "python3"
  },
  "language_info": {
   "codemirror_mode": {
    "name": "ipython",
    "version": 3
   },
   "file_extension": ".py",
   "mimetype": "text/x-python",
   "name": "python",
   "nbconvert_exporter": "python",
   "pygments_lexer": "ipython3",
   "version": "3.12.3"
  }
 },
 "nbformat": 4,
 "nbformat_minor": 5
}
