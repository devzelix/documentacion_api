{
 "cells": [
  {
   "cell_type": "markdown",
   "id": "60b3d718-24ec-40c6-ba94-fae449ff8b4a",
   "metadata": {},
   "source": [
    "# 🔒 Métodos HTTP en APIs REST\n",
    "\n",
    "Los métodos HTTP permiten realizar acciones sobre los recursos de una API:"
   ]
  },
  {
   "cell_type": "markdown",
   "id": "dce235cc-2265-4098-a4cb-d53ea7ab9789",
   "metadata": {},
   "source": [
    "| Método  | Descripción                                  | Ejemplo              |\n",
    "|:--------|:---------------------------------------------|:---------------------|\n",
    "| GET     | Recupera información de un recurso           | `GET /usuarios`      |\n",
    "| POST    | Crea un nuevo recurso                        | `POST /usuarios`     |\n",
    "| PUT     | Actualiza completamente un recurso existente | `PUT /usuarios/1`    |\n",
    "| PATCH   | Modifica parcialmente un recurso             | `PATCH /usuarios/1`  |\n",
    "| DELETE  | Eliminar un recurso                          | `DELETE /usuarios/1` |"
   ]
  },
  {
   "cell_type": "markdown",
   "id": "0b036180-a8e0-44c9-9d14-5a7d7c0ee632",
   "metadata": {},
   "source": [
    "Ejemplo de una solicitud POST para crear un usuario en una API REST:"
   ]
  },
  {
   "cell_type": "raw",
   "id": "fa8d84ea-d084-4765-8f90-82bb4f24c4e3",
   "metadata": {},
   "source": [
    "POST /usuarios\n",
    "Content-Type: application/json\n",
    "\n",
    "{\n",
    "  \"nombre\": \"Jose\",\n",
    "  \"email\": \"jose@email.com\"\n",
    "}"
   ]
  }
 ],
 "metadata": {
  "kernelspec": {
   "display_name": "Python 3 (ipykernel)",
   "language": "python",
   "name": "python3"
  },
  "language_info": {
   "codemirror_mode": {
    "name": "ipython",
    "version": 3
   },
   "file_extension": ".py",
   "mimetype": "text/x-python",
   "name": "python",
   "nbconvert_exporter": "python",
   "pygments_lexer": "ipython3",
   "version": "3.12.3"
  }
 },
 "nbformat": 4,
 "nbformat_minor": 5
}
