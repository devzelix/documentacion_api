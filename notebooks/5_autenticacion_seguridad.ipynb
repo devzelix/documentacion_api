{
 "cells": [
  {
   "cell_type": "markdown",
   "id": "bd71cde7-7ea7-4680-9f59-6d8baef07b34",
   "metadata": {},
   "source": [
    "# 🔐 Autenticación y Seguridad en APIs\n",
    "\n",
    "Las APIs deben estar protegidas contra accesos no autorizados. Existen varias formas de autenticación:"
   ]
  },
  {
   "cell_type": "markdown",
   "id": "782168dd-9172-4b5f-b075-7124fd8aed76",
   "metadata": {},
   "source": [
    "* 🟨 **API Keys**: Se envía una clave en la solicitud."
   ]
  },
  {
   "cell_type": "raw",
   "id": "8b9a1b87-ec07-43e2-9f5b-0eae7c500e87",
   "metadata": {},
   "source": [
    "GET /datos?apikey=MI_CLAVE"
   ]
  },
  {
   "cell_type": "markdown",
   "id": "fd2cb150-1502-4304-889b-462d93dac5ab",
   "metadata": {},
   "source": [
    "* 🟨 **OAuth 2.0**: Permite autenticación con terceros (ejemplo: inicio de sesión con Google)."
   ]
  },
  {
   "cell_type": "markdown",
   "id": "d82c3133-9018-4e8d-a533-2506d6d556bc",
   "metadata": {},
   "source": [
    "* 🟨 **JWT (JSON Web Tokens)**: Se usa para autenticar usuarios con tokens firmados."
   ]
  },
  {
   "cell_type": "raw",
   "id": "10a8cacf-5e08-41cb-874d-accfb9aa96f6",
   "metadata": {},
   "source": [
    "Authorization: Bearer TOKEN_AQUI"
   ]
  }
 ],
 "metadata": {
  "kernelspec": {
   "display_name": "Python 3 (ipykernel)",
   "language": "python",
   "name": "python3"
  },
  "language_info": {
   "codemirror_mode": {
    "name": "ipython",
    "version": 3
   },
   "file_extension": ".py",
   "mimetype": "text/x-python",
   "name": "python",
   "nbconvert_exporter": "python",
   "pygments_lexer": "ipython3",
   "version": "3.12.3"
  }
 },
 "nbformat": 4,
 "nbformat_minor": 5
}
