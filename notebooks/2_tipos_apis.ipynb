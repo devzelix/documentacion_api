{
 "cells": [
  {
   "cell_type": "markdown",
   "id": "c60a5c42-bcf4-4527-9eed-290eaca2fcda",
   "metadata": {},
   "source": [
    "# 🏷️ Tipos de APIs\n",
    "\n",
    "Existen varios tipos de API según su acceso y tecnología:"
   ]
  },
  {
   "cell_type": "markdown",
   "id": "8aeecf6e-c38e-4f39-919e-961cd3b8b2b6",
   "metadata": {},
   "source": [
    "## 🔓 Según su acceso:\n",
    "\n",
    "* **APIs Públicas**: Son accesibles para cualquier desarrollador y están documentadas (ejemplo: API de Twitter)\n",
    "  \n",
    "* **API Privadas**: Solo pueden ser utilizadas dentro de una empresa o servicio interno.\n",
    "\n",
    "* **APIs de Socios**: Son compartidas con ciertas organizaciones o usuarios específicos."
   ]
  },
  {
   "cell_type": "markdown",
   "id": "524237cd-1a1a-4bf9-8ada-1f0c04204b48",
   "metadata": {},
   "source": [
    "## 💻 Según su tecnología:\n",
    "\n",
    "* **REST (Transferencia de estado representacional)**:\n",
    "  \n",
    "  * Basado en HTTP y JSON.\n",
    "  * Requiere menos recursos y es fácil de implementar.\n",
    "  * Ejemplo: API de GitHub."
   ]
  },
  {
   "cell_type": "markdown",
   "id": "9eb71efb-12f6-46fc-a485-9c21735ec4a7",
   "metadata": {},
   "source": [
    "* **SOAP (Protocolo simple de acceso a objetos)**:\n",
    "  \n",
    "   * Usa XML para el intercambio de datos.\n",
    "   * Mayor seguridad pero más compleja y pesada.\n",
    "   * Ejemplo: Servicios bancarios y gubernamentales."
   ]
  },
  {
   "cell_type": "markdown",
   "id": "20e4ec8b-ace4-4787-b88a-6a65692c54b5",
   "metadata": {},
   "source": [
    "* **GraficoQL**:\n",
    "  \n",
    "  * Permite obtener solo los datos específicos solicitados.\n",
    "  * Más eficiente en consultas de datos complejos.\n",
    "  * Ejemplo: API de Facebook. "
   ]
  },
  {
   "cell_type": "markdown",
   "id": "d9a1f7d9-2946-47b5-bd3b-c2f21507b7c9",
   "metadata": {},
   "source": [
    "* **gRPC (Llamada a procedimiento remoto de Google)**:\n",
    "  \n",
    "  * Utilice el protocolo Protocol Buffers en lugar de JSON.\n",
    "  * Más rápido y eficiente para servicios en la nube.\n",
    "  * Ejemplo: Microservicios de Google."
   ]
  }
 ],
 "metadata": {
  "kernelspec": {
   "display_name": "Python 3 (ipykernel)",
   "language": "python",
   "name": "python3"
  },
  "language_info": {
   "codemirror_mode": {
    "name": "ipython",
    "version": 3
   },
   "file_extension": ".py",
   "mimetype": "text/x-python",
   "name": "python",
   "nbconvert_exporter": "python",
   "pygments_lexer": "ipython3",
   "version": "3.12.3"
  }
 },
 "nbformat": 4,
 "nbformat_minor": 5
}
