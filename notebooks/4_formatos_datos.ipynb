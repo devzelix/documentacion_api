{
 "cells": [
  {
   "cell_type": "markdown",
   "id": "5aa62d9b-7b9f-4f27-8ee8-849cc8c95afa",
   "metadata": {},
   "source": [
    "# 🧮 Formatos de datos en APIs\n",
    "\n",
    "Los datos en una API suelen transmitirse en los siguientes formatos:"
   ]
  },
  {
   "cell_type": "markdown",
   "id": "f3d2c9c4-cb1b-4c9d-8e3c-92f65648c30f",
   "metadata": {},
   "source": [
    "## 📧 JSON (JavaScript Object Notation)\n",
    "\n",
    "Es el formato más utilizado debido a su simplicidad y compatibilidad:"
   ]
  },
  {
   "cell_type": "code",
   "execution_count": null,
   "id": "3075b612-4cdb-4c5c-8d2b-9866848d337a",
   "metadata": {
    "vscode": {
     "languageId": "json"
    }
   },
   "outputs": [],
   "source": [
    "{\n",
    "  \"id\": 1,\n",
    "  \"nombre\": \"Carlos\",\n",
    "  \"edad\": 25\n",
    "}"
   ]
  },
  {
   "cell_type": "markdown",
   "id": "9db2f292-6aa3-488c-8dfe-9b94199e6c99",
   "metadata": {},
   "source": [
    "## 💌 XML (eXtensible Markup Language)\n",
    "\n",
    "Menos comunes pero usados ​​en SOAP:"
   ]
  },
  {
   "cell_type": "code",
   "execution_count": null,
   "id": "2d7bb767-a24e-4dd6-9827-a18aaa6083f9",
   "metadata": {
    "vscode": {
     "languageId": "xml"
    }
   },
   "outputs": [],
   "source": [
    "<usuario>\n",
    "  <id>1</id>\n",
    "  <nombre>Carlos</nombre>\n",
    "  <edad>25</edad>\n",
    "</usuario>"
   ]
  }
 ],
 "metadata": {
  "kernelspec": {
   "display_name": ".venv",
   "language": "python",
   "name": "python3"
  },
  "language_info": {
   "codemirror_mode": {
    "name": "ipython",
    "version": 3
   },
   "file_extension": ".py",
   "mimetype": "text/x-python",
   "name": "python",
   "nbconvert_exporter": "python",
   "pygments_lexer": "ipython3",
   "version": "3.12.3"
  }
 },
 "nbformat": 4,
 "nbformat_minor": 5
}
