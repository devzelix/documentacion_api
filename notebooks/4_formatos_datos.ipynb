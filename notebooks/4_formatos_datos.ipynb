{
 "cells": [
  {
   "cell_type": "markdown",
   "id": "5aa62d9b-7b9f-4f27-8ee8-849cc8c95afa",
   "metadata": {},
   "source": [
    "# 🧮 Formatos de datos en APIs\n",
    "\n",
    "Los datos en una API suelen transmitirse en los siguientes formatos:"
   ]
  },
  {
   "cell_type": "markdown",
   "id": "f3d2c9c4-cb1b-4c9d-8e3c-92f65648c30f",
   "metadata": {},
   "source": [
    "## 📧 JSON (JavaScript Object Notation)\n",
    "\n",
    "Es el formato más utilizado debido a su simplicidad y compatibilidad:"
   ]
  },
  {
   "cell_type": "raw",
   "id": "560e8e86-f26f-438c-ac08-8072427e8e7e",
   "metadata": {
    "vscode": {
     "languageId": "json"
    }
   },
   "source": [
    "{\n",
    "  \"id\": 1,\n",
    "  \"nombre\": \"Carlos\",\n",
    "  \"edad\": 25\n",
    "}"
   ]
  },
  {
   "cell_type": "markdown",
   "id": "9db2f292-6aa3-488c-8dfe-9b94199e6c99",
   "metadata": {},
   "source": [
    "## 💌 XML (eXtensible Markup Language)\n",
    "\n",
    "Menos comunes pero usados ​​en SOAP:"
   ]
  },
  {
   "cell_type": "raw",
   "id": "f15c0b63-1ac1-4c22-b8c9-59e1eada4d18",
   "metadata": {
    "vscode": {
     "languageId": "xml"
    }
   },
   "source": [
    "<usuario>\n",
    "  <id>1</id>\n",
    "  <nombre>Carlos</nombre>\n",
    "  <edad>25</edad>\n",
    "</usuario>"
   ]
  }
 ],
 "metadata": {
  "kernelspec": {
   "display_name": "Python 3 (ipykernel)",
   "language": "python",
   "name": "python3"
  },
  "language_info": {
   "codemirror_mode": {
    "name": "ipython",
    "version": 3
   },
   "file_extension": ".py",
   "mimetype": "text/x-python",
   "name": "python",
   "nbconvert_exporter": "python",
   "pygments_lexer": "ipython3",
   "version": "3.12.3"
  }
 },
 "nbformat": 4,
 "nbformat_minor": 5
}
