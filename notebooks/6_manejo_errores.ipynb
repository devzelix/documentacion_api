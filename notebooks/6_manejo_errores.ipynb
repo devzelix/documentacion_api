{
 "cells": [
  {
   "cell_type": "markdown",
   "id": "870da251-89cf-495e-81b3-97382e655238",
   "metadata": {},
   "source": [
    "# 🚫 Manejo de errores en APIs\n",
    "\n",
    "Las APIs deben proporcionar códigos de error claros para facilitar la depuración:"
   ]
  },
  {
   "cell_type": "markdown",
   "id": "0bfdee17-306d-4820-90e3-da215d504605",
   "metadata": {},
   "source": [
    "| Código                    | Significado                       |\n",
    "|:--------------------------|:----------------------------------|\n",
    "| 200 OK                    | Solicitud exitosa                 |\n",
    "| 201 Created               | Recurso creado correctamente      |\n",
    "| 400 Bad Request           | Error en la solicitud del cliente |\n",
    "| 401 Unauthorized          | Usuario no autenticado            |\n",
    "| 403 Forbidden             | Usuario sin permisos              |\n",
    "| 404 Not Found             | Recurso no encontrado             |\n",
    "| 500 Internal Server Error | Error en el servidor              |  "
   ]
  },
  {
   "cell_type": "markdown",
   "id": "f08df8fe-0b02-48a3-9093-90f2f7b6e708",
   "metadata": {},
   "source": [
    "Ejemplo de respuesta de error:"
   ]
  },
  {
   "cell_type": "raw",
   "id": "297954a5-92c4-43ff-95b9-679f86e2f71b",
   "metadata": {},
   "source": [
    "{\n",
    "  \"error\": \"Usuario no autorizado\",\n",
    "  \"codigo\": 401\n",
    "}"
   ]
  }
 ],
 "metadata": {
  "kernelspec": {
   "display_name": "Python 3 (ipykernel)",
   "language": "python",
   "name": "python3"
  },
  "language_info": {
   "codemirror_mode": {
    "name": "ipython",
    "version": 3
   },
   "file_extension": ".py",
   "mimetype": "text/x-python",
   "name": "python",
   "nbconvert_exporter": "python",
   "pygments_lexer": "ipython3",
   "version": "3.12.3"
  }
 },
 "nbformat": 4,
 "nbformat_minor": 5
}
